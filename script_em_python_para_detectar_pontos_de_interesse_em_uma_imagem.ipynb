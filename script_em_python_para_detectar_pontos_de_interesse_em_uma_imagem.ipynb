{
  "nbformat": 4,
  "nbformat_minor": 0,
  "metadata": {
    "colab": {
      "provenance": [],
      "authorship_tag": "ABX9TyPwDGd9o9RKsGNXQQ74B/k9",
      "include_colab_link": true
    },
    "kernelspec": {
      "name": "python3",
      "display_name": "Python 3"
    },
    "language_info": {
      "name": "python"
    }
  },
  "cells": [
    {
      "cell_type": "markdown",
      "metadata": {
        "id": "view-in-github",
        "colab_type": "text"
      },
      "source": [
        "<a href=\"https://colab.research.google.com/github/ErisonBarros/Fotogrametria01/blob/erison.barros/script_em_python_para_detectar_pontos_de_interesse_em_uma_imagem.ipynb\" target=\"_parent\"><img src=\"https://colab.research.google.com/assets/colab-badge.svg\" alt=\"Open In Colab\"/></a>"
      ]
    },
    {
      "cell_type": "markdown",
      "source": [
        "Aqui está um exemplo de script em Python para detectar pontos de interesse em uma imagem usando a biblioteca scikit-image:"
      ],
      "metadata": {
        "id": "37N8tZXpQ2B3"
      }
    },
    {
      "cell_type": "code",
      "source": [
        "pip install mkdocs mkdocs-material"
      ],
      "metadata": {
        "id": "xlPr7KWYcaIC"
      },
      "execution_count": null,
      "outputs": []
    },
    {
      "cell_type": "code",
      "source": [
        "!pip install opencv-python\n",
        "!pip install opencv-python-headless\n",
        "!pip install opencv-contrib-python"
      ],
      "metadata": {
        "id": "6F4eZqc_aVdh"
      },
      "execution_count": null,
      "outputs": []
    },
    {
      "cell_type": "code",
      "source": [
        "!pip install pyautogui"
      ],
      "metadata": {
        "id": "ZXMZp1oYbI7K"
      },
      "execution_count": null,
      "outputs": []
    },
    {
      "cell_type": "code",
      "source": [
        "!pip install Pillow"
      ],
      "metadata": {
        "id": "7DUkl50MblYi"
      },
      "execution_count": null,
      "outputs": []
    },
    {
      "cell_type": "code",
      "execution_count": null,
      "metadata": {
        "colab": {
          "base_uri": "https://localhost:8080/",
          "height": 38
        },
        "id": "dKZy5kc-QxgE",
        "outputId": "07d04670-c298-42d9-8be1-7a61c187d989"
      },
      "outputs": [
        {
          "output_type": "execute_result",
          "data": {
            "text/html": [
              "<img src=\"https://github.com/ErisonBarros/Fotogrametria01/blob/5b9b2c8b95c9d2949ab208d18b91d20f06ad2fad/Planet9_Wallpaper_5000x2813.jpg\"/>"
            ],
            "text/plain": [
              "<IPython.core.display.Image object>"
            ]
          },
          "metadata": {},
          "execution_count": 60
        }
      ],
      "source": [
        "# Instalar as Bibliotecas\n",
        "from IPython.display import Image\n",
        "\n",
        "url = \"https://github.com/ErisonBarros/Fotogrametria01/blob/5b9b2c8b95c9d2949ab208d18b91d20f06ad2fad/Planet9_Wallpaper_5000x2813.jpg\"\n",
        "Image(url=url)"
      ]
    },
    {
      "cell_type": "code",
      "source": [
        "# Chamar as Bibliotecas\n",
        "import numpy as np\n",
        "import matplotlib.pyplot as plt\n",
        "import skimage.feature as sf\n",
        "import cv2\n",
        "#import pyautogui\n",
        "#import Pillow"
      ],
      "metadata": {
        "id": "5-e7g1ayRDUH"
      },
      "execution_count": null,
      "outputs": []
    },
    {
      "cell_type": "code",
      "source": [
        "img = cv2.imread('url', 0)"
      ],
      "metadata": {
        "id": "44YCzfWaZyfR"
      },
      "execution_count": null,
      "outputs": []
    },
    {
      "cell_type": "code",
      "source": [
        "# Convertendo de BGR para RGB (Matplotlib usa o formato RGB)\n",
        "img_rgb = cv2.cvtColor(img, cv2.COLOR_BGR2RGB)"
      ],
      "metadata": {
        "id": "XOTt01Wvehea"
      },
      "execution_count": null,
      "outputs": []
    },
    {
      "cell_type": "code",
      "source": [
        "# Mostrando a imagem\n",
        "plt.imshow(img)\n",
        "plt.axis('off')  # Desativa os eixos\n",
        "plt.show()"
      ],
      "metadata": {
        "id": "CCJUhCLFdp5i"
      },
      "execution_count": null,
      "outputs": []
    },
    {
      "cell_type": "code",
      "source": [
        "# Definir os parâmetros\n",
        "blockSize = 2\n",
        "ksize = 3\n",
        "k = 0.04"
      ],
      "metadata": {
        "id": "8gMpoIK8Ytvx"
      },
      "execution_count": null,
      "outputs": []
    },
    {
      "cell_type": "code",
      "source": [
        "# Converter para tipo float32\n",
        "img = np.float32(img)\n"
      ],
      "metadata": {
        "id": "srR2poxCZ6QC"
      },
      "execution_count": null,
      "outputs": []
    },
    {
      "cell_type": "code",
      "source": [
        "# Calcular a medida de cantos de Harris\n",
        "dst = cv2.cornerHarris(img, blockSize, ksize, k)"
      ],
      "metadata": {
        "colab": {
          "base_uri": "https://localhost:8080/",
          "height": 235
        },
        "id": "x8-6UYQ8aAY5",
        "outputId": "23fc30b8-d6e5-4ad6-90f3-a64310a45f52"
      },
      "execution_count": null,
      "outputs": [
        {
          "output_type": "error",
          "ename": "error",
          "evalue": "ignored",
          "traceback": [
            "\u001b[0;31m---------------------------------------------------------------------------\u001b[0m",
            "\u001b[0;31merror\u001b[0m                                     Traceback (most recent call last)",
            "\u001b[0;32m<ipython-input-70-fe10e01ccc71>\u001b[0m in \u001b[0;36m<cell line: 2>\u001b[0;34m()\u001b[0m\n\u001b[1;32m      1\u001b[0m \u001b[0;31m# Calcular a medida de cantos de Harris\u001b[0m\u001b[0;34m\u001b[0m\u001b[0;34m\u001b[0m\u001b[0m\n\u001b[0;32m----> 2\u001b[0;31m \u001b[0mdst\u001b[0m \u001b[0;34m=\u001b[0m \u001b[0mcv2\u001b[0m\u001b[0;34m.\u001b[0m\u001b[0mcornerHarris\u001b[0m\u001b[0;34m(\u001b[0m\u001b[0mimg\u001b[0m\u001b[0;34m,\u001b[0m \u001b[0mblockSize\u001b[0m\u001b[0;34m,\u001b[0m \u001b[0mksize\u001b[0m\u001b[0;34m,\u001b[0m \u001b[0mk\u001b[0m\u001b[0;34m)\u001b[0m\u001b[0;34m\u001b[0m\u001b[0;34m\u001b[0m\u001b[0m\n\u001b[0m",
            "\u001b[0;31merror\u001b[0m: OpenCV(4.7.0) :-1: error: (-5:Bad argument) in function 'cornerHarris'\n> Overload resolution failed:\n>  - src is not a numpy array, neither a scalar\n>  - Expected Ptr<cv::UMat> for argument 'src'\n"
          ]
        }
      ]
    },
    {
      "cell_type": "code",
      "source": [
        "# Carregar a imagem\n",
        "img=Image\n",
        "#img = plt.imread('https://github.com/ErisonBarros/Fotogrametria01.git')"
      ],
      "metadata": {
        "id": "VQRPuyIWRVBg"
      },
      "execution_count": null,
      "outputs": []
    },
    {
      "cell_type": "code",
      "source": [
        "# Converter a imagem para o tipo float32\n",
        "img = np.float32(img)"
      ],
      "metadata": {
        "id": "xG1DcmBrXCl5"
      },
      "execution_count": null,
      "outputs": []
    },
    {
      "cell_type": "code",
      "source": [
        "# Definir o tamanho da vizinhança (blockSize)\n",
        "blockSize = 3"
      ],
      "metadata": {
        "id": "MPLiANGXXfmq"
      },
      "execution_count": null,
      "outputs": []
    },
    {
      "cell_type": "code",
      "source": [
        "# Definir o tamanho da janela do operador de derivadas de Sobel (ksize)\n",
        "ksize = 3"
      ],
      "metadata": {
        "id": "LF1_XhfGXtOJ"
      },
      "execution_count": null,
      "outputs": []
    },
    {
      "cell_type": "code",
      "source": [],
      "metadata": {
        "id": "bVSlu7SUZT8p"
      },
      "execution_count": null,
      "outputs": []
    },
    {
      "cell_type": "code",
      "source": [
        "# Calcular a medida de cantos de Harris\n",
        "dst = cv2.cornerHarris(img, blockSize, ksize, k)"
      ],
      "metadata": {
        "id": "zuU3WRjkXJbR"
      },
      "execution_count": null,
      "outputs": []
    },
    {
      "cell_type": "code",
      "source": [
        "img = cv2.imread('url')"
      ],
      "metadata": {
        "id": "72VV7O_PUGqq"
      },
      "execution_count": null,
      "outputs": []
    },
    {
      "cell_type": "code",
      "source": [
        "# Convert the image to grayscale\n",
        "gray = cv2.cvtColor(img, cv2.COLOR_BGR2GRAY)"
      ],
      "metadata": {
        "id": "QU4OlpzqVcxB"
      },
      "execution_count": null,
      "outputs": []
    },
    {
      "cell_type": "code",
      "source": [
        "# Calcular a medida de cantos de Harris\n",
        "corners = sf.corner_harris(img[:, :, 0])"
      ],
      "metadata": {
        "id": "vd3zE_KJT6IS"
      },
      "execution_count": null,
      "outputs": []
    },
    {
      "cell_type": "code",
      "source": [
        "corners = cv2.cornerHarris(gray, blockSize=2, ksize=3, k=0.04)"
      ],
      "metadata": {
        "id": "nu80atw4VtpZ"
      },
      "execution_count": null,
      "outputs": []
    }
  ]
}